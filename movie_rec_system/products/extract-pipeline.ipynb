{
 "cells": [
  {
   "cell_type": "code",
   "execution_count": 1,
   "id": "d3beaa26",
   "metadata": {
    "execution": {
     "iopub.execute_input": "2023-10-31T15:41:53.958350Z",
     "iopub.status.busy": "2023-10-31T15:41:53.958350Z",
     "iopub.status.idle": "2023-10-31T15:41:53.989618Z",
     "shell.execute_reply": "2023-10-31T15:41:53.989618Z"
    },
    "papermill": {
     "duration": 0.031268,
     "end_time": "2023-10-31T15:41:53.989618",
     "exception": false,
     "start_time": "2023-10-31T15:41:53.958350",
     "status": "completed"
    },
    "tags": [
     "parameters"
    ]
   },
   "outputs": [],
   "source": [
    "# declare a list tasks whose products you want to use as inputs\n",
    "upstream = None\n"
   ]
  },
  {
   "cell_type": "code",
   "execution_count": 2,
   "id": "b8bb01d7",
   "metadata": {
    "execution": {
     "iopub.execute_input": "2023-10-31T15:41:53.989618Z",
     "iopub.status.busy": "2023-10-31T15:41:53.989618Z",
     "iopub.status.idle": "2023-10-31T15:41:54.005106Z",
     "shell.execute_reply": "2023-10-31T15:41:54.005106Z"
    },
    "papermill": {
     "duration": 0.015488,
     "end_time": "2023-10-31T15:41:54.005106",
     "exception": false,
     "start_time": "2023-10-31T15:41:53.989618",
     "status": "completed"
    },
    "tags": [
     "injected-parameters"
    ]
   },
   "outputs": [],
   "source": [
    "# Parameters\n",
    "product = {\"nb\": \"C:\\\\Users\\\\davig\\\\Documents\\\\code\\\\mini-projects\\\\movie-rec-system\\\\products\\\\extract-pipeline.ipynb\", \"data\": \"C:\\\\Users\\\\davig\\\\Documents\\\\code\\\\mini-projects\\\\movie-rec-system\\\\movies_data.duckdb\"}\n"
   ]
  },
  {
   "cell_type": "code",
   "execution_count": 3,
   "id": "9db8d409",
   "metadata": {
    "execution": {
     "iopub.execute_input": "2023-10-31T15:41:54.005106Z",
     "iopub.status.busy": "2023-10-31T15:41:54.005106Z",
     "iopub.status.idle": "2023-10-31T15:41:54.125159Z",
     "shell.execute_reply": "2023-10-31T15:41:54.125159Z"
    },
    "lines_to_next_cell": 1,
    "papermill": {
     "duration": 0.120053,
     "end_time": "2023-10-31T15:41:54.125159",
     "exception": false,
     "start_time": "2023-10-31T15:41:54.005106",
     "status": "completed"
    },
    "tags": []
   },
   "outputs": [],
   "source": [
    "import requests\n",
    "from dotenv import load_dotenv\n",
    "import duckdb\n",
    "import os"
   ]
  },
  {
   "cell_type": "code",
   "execution_count": 4,
   "id": "a23094e5",
   "metadata": {
    "execution": {
     "iopub.execute_input": "2023-10-31T15:41:54.131269Z",
     "iopub.status.busy": "2023-10-31T15:41:54.131269Z",
     "iopub.status.idle": "2023-10-31T15:41:54.141393Z",
     "shell.execute_reply": "2023-10-31T15:41:54.141393Z"
    },
    "papermill": {
     "duration": 0.010124,
     "end_time": "2023-10-31T15:41:54.141393",
     "exception": false,
     "start_time": "2023-10-31T15:41:54.131269",
     "status": "completed"
    },
    "tags": []
   },
   "outputs": [],
   "source": [
    "def init_duck_db_movies(path, data):\n",
    "    conn = duckdb.connect(path, read_only=False)\n",
    "    conn.execute(\n",
    "        \"\"\"\n",
    "        CREATE TABLE IF NOT EXISTS movies(\n",
    "        genre_ids INT[],\n",
    "        id INTEGER,\n",
    "        original_language VARCHAR,\n",
    "        overview VARCHAR,\n",
    "        popularity DOUBLE,\n",
    "        release_date TIMESTAMP,\n",
    "        title VARCHAR,\n",
    "        vote_average DOUBLE,\n",
    "        vote_count INTEGER\n",
    "        );\n",
    "        \"\"\"\n",
    "    )\n",
    "\n",
    "    for movie in data['results']:\n",
    "        genre_ids_str = ','.join(map(str, movie['genre_ids']))  # Creates a string with the genre ids separated by comma\n",
    "        conn.execute(f\"\"\" INSERT INTO movies VALUES(ARRAY[{genre_ids_str}],\n",
    "            {movie[\"id\"]},\n",
    "            '{movie[\"original_language\"]}',\n",
    "            '{movie[\"overview\"].replace(\"'\", \"''\")}',\n",
    "            {movie[\"popularity\"]},\n",
    "            '{movie[\"release_date\"]}',\n",
    "            '{movie[\"title\"].replace(\"'\", \"''\")}',\n",
    "            {movie[\"vote_average\"]},\n",
    "            {movie[\"vote_count\"]});\n",
    "        \"\"\"\n",
    "        )\n",
    "    conn.close()"
   ]
  },
  {
   "cell_type": "code",
   "execution_count": 5,
   "id": "a2f1656d",
   "metadata": {
    "execution": {
     "iopub.execute_input": "2023-10-31T15:41:54.141393Z",
     "iopub.status.busy": "2023-10-31T15:41:54.141393Z",
     "iopub.status.idle": "2023-10-31T15:41:54.158557Z",
     "shell.execute_reply": "2023-10-31T15:41:54.157144Z"
    },
    "lines_to_next_cell": 1,
    "papermill": {
     "duration": 0.019512,
     "end_time": "2023-10-31T15:41:54.160905",
     "exception": false,
     "start_time": "2023-10-31T15:41:54.141393",
     "status": "completed"
    },
    "tags": []
   },
   "outputs": [],
   "source": [
    "def init_duck_db_genres(path, data):\n",
    "    conn = duckdb.connect(path, read_only=False)\n",
    "    conn.execute(\n",
    "        \"\"\"\n",
    "        CREATE TABLE IF NOT EXISTS genres(\n",
    "            id INTEGER,\n",
    "            name VARCHAR\n",
    "        );\n",
    "        \"\"\"\n",
    "    )\n",
    "    for genre in data['genres']:\n",
    "        conn.execute(f\"\"\" INSERT INTO genres VALUES(\n",
    "            {genre['id']},\n",
    "            '{genre[\"name\"]}'\n",
    "        );\n",
    "    \"\"\")\n",
    "    conn.close()"
   ]
  },
  {
   "cell_type": "code",
   "execution_count": 6,
   "id": "452414ff",
   "metadata": {
    "execution": {
     "iopub.execute_input": "2023-10-31T15:41:54.160905Z",
     "iopub.status.busy": "2023-10-31T15:41:54.160905Z",
     "iopub.status.idle": "2023-10-31T15:41:54.177407Z",
     "shell.execute_reply": "2023-10-31T15:41:54.176404Z"
    },
    "papermill": {
     "duration": 0.017497,
     "end_time": "2023-10-31T15:41:54.178402",
     "exception": false,
     "start_time": "2023-10-31T15:41:54.160905",
     "status": "completed"
    },
    "tags": []
   },
   "outputs": [],
   "source": [
    "# Load API key from .env file\n",
    "load_dotenv('.env')\n",
    "api_key = os.getenv('API_KEY')"
   ]
  },
  {
   "cell_type": "code",
   "execution_count": 7,
   "id": "165fc7ea",
   "metadata": {
    "execution": {
     "iopub.execute_input": "2023-10-31T15:41:54.178402Z",
     "iopub.status.busy": "2023-10-31T15:41:54.178402Z",
     "iopub.status.idle": "2023-10-31T15:41:54.195312Z",
     "shell.execute_reply": "2023-10-31T15:41:54.194282Z"
    },
    "papermill": {
     "duration": 0.018906,
     "end_time": "2023-10-31T15:41:54.197308",
     "exception": false,
     "start_time": "2023-10-31T15:41:54.178402",
     "status": "completed"
    },
    "tags": []
   },
   "outputs": [],
   "source": [
    "# Construct URL\n",
    "url_genres = f\"https://api.themoviedb.org/3/genre/movie/list?api_key={api_key}&with_original_language=en\""
   ]
  },
  {
   "cell_type": "code",
   "execution_count": 8,
   "id": "b10a8be2",
   "metadata": {
    "execution": {
     "iopub.execute_input": "2023-10-31T15:41:54.202292Z",
     "iopub.status.busy": "2023-10-31T15:41:54.202292Z",
     "iopub.status.idle": "2023-10-31T15:41:54.210606Z",
     "shell.execute_reply": "2023-10-31T15:41:54.209599Z"
    },
    "lines_to_next_cell": 2,
    "papermill": {
     "duration": 0.013295,
     "end_time": "2023-10-31T15:41:54.212596",
     "exception": false,
     "start_time": "2023-10-31T15:41:54.199301",
     "status": "completed"
    },
    "tags": []
   },
   "outputs": [],
   "source": [
    "url_movies = f\"https://api.themoviedb.org/3/discover/movie?api_key={api_key}&language=en-US&page=1&sort_by=popularity.desc\""
   ]
  },
  {
   "cell_type": "code",
   "execution_count": 9,
   "id": "4a2f24b8",
   "metadata": {
    "execution": {
     "iopub.execute_input": "2023-10-31T15:41:54.218674Z",
     "iopub.status.busy": "2023-10-31T15:41:54.218674Z",
     "iopub.status.idle": "2023-10-31T15:41:54.603772Z",
     "shell.execute_reply": "2023-10-31T15:41:54.603772Z"
    },
    "papermill": {
     "duration": 0.389183,
     "end_time": "2023-10-31T15:41:54.603772",
     "exception": false,
     "start_time": "2023-10-31T15:41:54.214589",
     "status": "completed"
    },
    "tags": []
   },
   "outputs": [],
   "source": [
    "try:\n",
    "    # Request genre data\n",
    "    genre_res = requests.get(url_genres)\n",
    "except requests.exceptions.RequestException as e:\n",
    "    print('An error occured during the genre request:', e)"
   ]
  },
  {
   "cell_type": "code",
   "execution_count": 10,
   "id": "44e1f48c",
   "metadata": {
    "execution": {
     "iopub.execute_input": "2023-10-31T15:41:54.619342Z",
     "iopub.status.busy": "2023-10-31T15:41:54.619342Z",
     "iopub.status.idle": "2023-10-31T15:41:54.960795Z",
     "shell.execute_reply": "2023-10-31T15:41:54.960795Z"
    },
    "papermill": {
     "duration": 0.357023,
     "end_time": "2023-10-31T15:41:54.960795",
     "exception": false,
     "start_time": "2023-10-31T15:41:54.603772",
     "status": "completed"
    },
    "tags": []
   },
   "outputs": [],
   "source": [
    "try:\n",
    "    # Request movie data\n",
    "    movies_res = requests.get(url_movies)\n",
    "except requests.exceptions.RequestException as e:\n",
    "    print('An error occured during the movie request:', e)"
   ]
  },
  {
   "cell_type": "code",
   "execution_count": 11,
   "id": "c429d72a",
   "metadata": {
    "execution": {
     "iopub.execute_input": "2023-10-31T15:41:54.960795Z",
     "iopub.status.busy": "2023-10-31T15:41:54.960795Z",
     "iopub.status.idle": "2023-10-31T15:41:54.992029Z",
     "shell.execute_reply": "2023-10-31T15:41:54.992029Z"
    },
    "papermill": {
     "duration": 0.031234,
     "end_time": "2023-10-31T15:41:54.992029",
     "exception": false,
     "start_time": "2023-10-31T15:41:54.960795",
     "status": "completed"
    },
    "tags": []
   },
   "outputs": [],
   "source": [
    "# Transform content to JSON\n",
    "movies_res = movies_res.json()\n",
    "genre_res = genre_res.json()"
   ]
  },
  {
   "cell_type": "code",
   "execution_count": 12,
   "id": "d772573e",
   "metadata": {
    "execution": {
     "iopub.execute_input": "2023-10-31T15:41:54.992029Z",
     "iopub.status.busy": "2023-10-31T15:41:54.992029Z",
     "iopub.status.idle": "2023-10-31T15:41:55.007701Z",
     "shell.execute_reply": "2023-10-31T15:41:55.007701Z"
    },
    "papermill": {
     "duration": 0.015672,
     "end_time": "2023-10-31T15:41:55.007701",
     "exception": false,
     "start_time": "2023-10-31T15:41:54.992029",
     "status": "completed"
    },
    "tags": []
   },
   "outputs": [],
   "source": [
    "# Initialize connection with database\n",
    "duckdb_file_path = 'movies_data.duckdb'"
   ]
  },
  {
   "cell_type": "code",
   "execution_count": 13,
   "id": "2da13a72",
   "metadata": {
    "execution": {
     "iopub.execute_input": "2023-10-31T15:41:55.007701Z",
     "iopub.status.busy": "2023-10-31T15:41:55.007701Z",
     "iopub.status.idle": "2023-10-31T15:41:55.172524Z",
     "shell.execute_reply": "2023-10-31T15:41:55.172524Z"
    },
    "papermill": {
     "duration": 0.164823,
     "end_time": "2023-10-31T15:41:55.172524",
     "exception": false,
     "start_time": "2023-10-31T15:41:55.007701",
     "status": "completed"
    },
    "tags": []
   },
   "outputs": [],
   "source": [
    "# Create duckdb tables and populate\n",
    "init_duck_db_movies(duckdb_file_path, movies_res)\n",
    "init_duck_db_genres(duckdb_file_path, genre_res)"
   ]
  }
 ],
 "metadata": {
  "jupytext": {
   "cell_metadata_filter": "tags,-all",
   "main_language": "python",
   "notebook_metadata_filter": "-all",
   "text_representation": {
    "extension": ".py",
    "format_name": "light"
   }
  },
  "kernelspec": {
   "display_name": "Python 3 (ipykernel)",
   "language": "python",
   "name": "python3"
  },
  "language_info": {
   "codemirror_mode": {
    "name": "ipython",
    "version": 3
   },
   "file_extension": ".py",
   "mimetype": "text/x-python",
   "name": "python",
   "nbconvert_exporter": "python",
   "pygments_lexer": "ipython3",
   "version": "3.10.13"
  },
  "papermill": {
   "duration": 2.762966,
   "end_time": "2023-10-31T15:41:55.404775",
   "exception": null,
   "input_path": "C:\\Users\\davig\\AppData\\Local\\Temp\\tmp242w122e.ipynb",
   "output_path": "C:\\Users\\davig\\Documents\\code\\mini-projects\\movie-rec-system\\products\\extract-pipeline.ipynb",
   "parameters": {
    "product": {
     "data": "C:\\Users\\davig\\Documents\\code\\mini-projects\\movie-rec-system\\movies_data.duckdb",
     "nb": "C:\\Users\\davig\\Documents\\code\\mini-projects\\movie-rec-system\\products\\extract-pipeline.ipynb"
    }
   },
   "start_time": "2023-10-31T15:41:52.641809"
  }
 },
 "nbformat": 4,
 "nbformat_minor": 5
}
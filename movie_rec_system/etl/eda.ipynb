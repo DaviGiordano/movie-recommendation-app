{
 "cells": [
  {
   "cell_type": "code",
   "execution_count": 1,
   "id": "2e2212d1",
   "metadata": {
    "tags": [
     "parameters"
    ]
   },
   "outputs": [],
   "source": [
    "# declare a list tasks whose products you want to use as inputs\n",
    "upstream = None\n"
   ]
  },
  {
   "cell_type": "code",
   "execution_count": 4,
   "metadata": {},
   "outputs": [
    {
     "data": {
      "text/html": [
       "Tip: You may define configurations in C:\\Users\\davig\\Documents\\code\\mini-projects\\movie-rec-system\\pyproject.toml. Please review our <a href='https://jupysql.ploomber.io/en/latest/api/configuration.html#loading-from-pyproject-toml'>configuration guideline</a>."
      ],
      "text/plain": [
       "<IPython.core.display.HTML object>"
      ]
     },
     "metadata": {},
     "output_type": "display_data"
    }
   ],
   "source": [
    "import duckdb\n",
    "path = \"./../movies_data.duckdb\"\n",
    "\n",
    "# Setup\n",
    "%reload_ext sql\n",
    "%config SqlMagic.displaylimit = 20\n",
    "conn = duckdb.connect(path, read_only=False)\n",
    "%sql conn --alias duckdb"
   ]
  },
  {
   "cell_type": "code",
   "execution_count": 5,
   "metadata": {},
   "outputs": [
    {
     "data": {
      "text/html": [
       "<span style=\"None\">Running query in &#x27;duckdb&#x27;</span>"
      ],
      "text/plain": [
       "Running query in 'duckdb'"
      ]
     },
     "metadata": {},
     "output_type": "display_data"
    },
    {
     "data": {
      "text/html": [
       "<table>\n",
       "    <thead>\n",
       "        <tr>\n",
       "            <th>name</th>\n",
       "        </tr>\n",
       "    </thead>\n",
       "    <tbody>\n",
       "        <tr>\n",
       "            <td>genres</td>\n",
       "        </tr>\n",
       "        <tr>\n",
       "            <td>movie_genre_data</td>\n",
       "        </tr>\n",
       "        <tr>\n",
       "            <td>movies</td>\n",
       "        </tr>\n",
       "    </tbody>\n",
       "</table>"
      ],
      "text/plain": [
       "+------------------+\n",
       "|       name       |\n",
       "+------------------+\n",
       "|      genres      |\n",
       "| movie_genre_data |\n",
       "|      movies      |\n",
       "+------------------+"
      ]
     },
     "execution_count": 5,
     "metadata": {},
     "output_type": "execute_result"
    }
   ],
   "source": [
    "# Tables\n",
    "%sql SHOW TABLES"
   ]
  },
  {
   "cell_type": "code",
   "execution_count": 22,
   "metadata": {},
   "outputs": [
    {
     "data": {
      "text/html": [
       "<span style=\"None\">Running query in &#x27;duckdb&#x27;</span>"
      ],
      "text/plain": [
       "Running query in 'duckdb'"
      ]
     },
     "metadata": {},
     "output_type": "display_data"
    },
    {
     "data": {
      "text/html": [
       "<table>\n",
       "    <thead>\n",
       "        <tr>\n",
       "            <th>column_name</th>\n",
       "        </tr>\n",
       "    </thead>\n",
       "    <tbody>\n",
       "        <tr>\n",
       "            <td>genre_ids</td>\n",
       "        </tr>\n",
       "        <tr>\n",
       "            <td>id</td>\n",
       "        </tr>\n",
       "        <tr>\n",
       "            <td>original_language</td>\n",
       "        </tr>\n",
       "        <tr>\n",
       "            <td>overview</td>\n",
       "        </tr>\n",
       "        <tr>\n",
       "            <td>popularity</td>\n",
       "        </tr>\n",
       "        <tr>\n",
       "            <td>release_date</td>\n",
       "        </tr>\n",
       "        <tr>\n",
       "            <td>title</td>\n",
       "        </tr>\n",
       "        <tr>\n",
       "            <td>vote_average</td>\n",
       "        </tr>\n",
       "        <tr>\n",
       "            <td>vote_count</td>\n",
       "        </tr>\n",
       "    </tbody>\n",
       "</table>"
      ],
      "text/plain": [
       "+-------------------+\n",
       "|    column_name    |\n",
       "+-------------------+\n",
       "|     genre_ids     |\n",
       "|         id        |\n",
       "| original_language |\n",
       "|      overview     |\n",
       "|     popularity    |\n",
       "|    release_date   |\n",
       "|       title       |\n",
       "|    vote_average   |\n",
       "|     vote_count    |\n",
       "+-------------------+"
      ]
     },
     "execution_count": 22,
     "metadata": {},
     "output_type": "execute_result"
    }
   ],
   "source": [
    "%%sql \n",
    "-- # Get columns from movies\n",
    "SELECT column_name\n",
    "FROM INFORMATION_SCHEMA.COLUMNS\n",
    "WHERE TABLE_NAME = N'movies'"
   ]
  },
  {
   "cell_type": "code",
   "execution_count": 23,
   "metadata": {},
   "outputs": [
    {
     "data": {
      "text/html": [
       "<span style=\"None\">Running query in &#x27;duckdb&#x27;</span>"
      ],
      "text/plain": [
       "Running query in 'duckdb'"
      ]
     },
     "metadata": {},
     "output_type": "display_data"
    },
    {
     "data": {
      "text/html": [
       "<table>\n",
       "    <thead>\n",
       "        <tr>\n",
       "            <th>id</th>\n",
       "            <th>name</th>\n",
       "        </tr>\n",
       "    </thead>\n",
       "    <tbody>\n",
       "        <tr>\n",
       "            <td>28</td>\n",
       "            <td>Action</td>\n",
       "        </tr>\n",
       "        <tr>\n",
       "            <td>12</td>\n",
       "            <td>Adventure</td>\n",
       "        </tr>\n",
       "        <tr>\n",
       "            <td>16</td>\n",
       "            <td>Animation</td>\n",
       "        </tr>\n",
       "        <tr>\n",
       "            <td>35</td>\n",
       "            <td>Comedy</td>\n",
       "        </tr>\n",
       "        <tr>\n",
       "            <td>80</td>\n",
       "            <td>Crime</td>\n",
       "        </tr>\n",
       "        <tr>\n",
       "            <td>99</td>\n",
       "            <td>Documentary</td>\n",
       "        </tr>\n",
       "        <tr>\n",
       "            <td>18</td>\n",
       "            <td>Drama</td>\n",
       "        </tr>\n",
       "        <tr>\n",
       "            <td>10751</td>\n",
       "            <td>Family</td>\n",
       "        </tr>\n",
       "        <tr>\n",
       "            <td>14</td>\n",
       "            <td>Fantasy</td>\n",
       "        </tr>\n",
       "        <tr>\n",
       "            <td>36</td>\n",
       "            <td>History</td>\n",
       "        </tr>\n",
       "        <tr>\n",
       "            <td>27</td>\n",
       "            <td>Horror</td>\n",
       "        </tr>\n",
       "        <tr>\n",
       "            <td>10402</td>\n",
       "            <td>Music</td>\n",
       "        </tr>\n",
       "        <tr>\n",
       "            <td>9648</td>\n",
       "            <td>Mystery</td>\n",
       "        </tr>\n",
       "        <tr>\n",
       "            <td>10749</td>\n",
       "            <td>Romance</td>\n",
       "        </tr>\n",
       "        <tr>\n",
       "            <td>878</td>\n",
       "            <td>Science Fiction</td>\n",
       "        </tr>\n",
       "        <tr>\n",
       "            <td>10770</td>\n",
       "            <td>TV Movie</td>\n",
       "        </tr>\n",
       "        <tr>\n",
       "            <td>53</td>\n",
       "            <td>Thriller</td>\n",
       "        </tr>\n",
       "        <tr>\n",
       "            <td>10752</td>\n",
       "            <td>War</td>\n",
       "        </tr>\n",
       "        <tr>\n",
       "            <td>37</td>\n",
       "            <td>Western</td>\n",
       "        </tr>\n",
       "    </tbody>\n",
       "</table>"
      ],
      "text/plain": [
       "+-------+-----------------+\n",
       "|   id  |       name      |\n",
       "+-------+-----------------+\n",
       "|   28  |      Action     |\n",
       "|   12  |    Adventure    |\n",
       "|   16  |    Animation    |\n",
       "|   35  |      Comedy     |\n",
       "|   80  |      Crime      |\n",
       "|   99  |   Documentary   |\n",
       "|   18  |      Drama      |\n",
       "| 10751 |      Family     |\n",
       "|   14  |     Fantasy     |\n",
       "|   36  |     History     |\n",
       "|   27  |      Horror     |\n",
       "| 10402 |      Music      |\n",
       "|  9648 |     Mystery     |\n",
       "| 10749 |     Romance     |\n",
       "|  878  | Science Fiction |\n",
       "| 10770 |     TV Movie    |\n",
       "|   53  |     Thriller    |\n",
       "| 10752 |       War       |\n",
       "|   37  |     Western     |\n",
       "+-------+-----------------+"
      ]
     },
     "execution_count": 23,
     "metadata": {},
     "output_type": "execute_result"
    }
   ],
   "source": [
    "# Get genres table\n",
    "%sql select * from genres"
   ]
  },
  {
   "cell_type": "code",
   "execution_count": 25,
   "metadata": {},
   "outputs": [
    {
     "data": {
      "text/html": [
       "<span style=\"None\">Running query in &#x27;duckdb&#x27;</span>"
      ],
      "text/plain": [
       "Running query in 'duckdb'"
      ]
     },
     "metadata": {},
     "output_type": "display_data"
    },
    {
     "data": {
      "text/html": [
       "<table>\n",
       "    <thead>\n",
       "        <tr>\n",
       "            <th>movie_id</th>\n",
       "            <th>genre_names</th>\n",
       "        </tr>\n",
       "    </thead>\n",
       "    <tbody>\n",
       "        <tr>\n",
       "            <td>575264</td>\n",
       "            <td>Action, Thriller</td>\n",
       "        </tr>\n",
       "        <tr>\n",
       "            <td>968051</td>\n",
       "            <td>Horror, Mystery, Thriller</td>\n",
       "        </tr>\n",
       "        <tr>\n",
       "            <td>1034062</td>\n",
       "            <td>Animation, Action, Fantasy</td>\n",
       "        </tr>\n",
       "        <tr>\n",
       "            <td>926393</td>\n",
       "            <td>Action, Thriller, Crime</td>\n",
       "        </tr>\n",
       "        <tr>\n",
       "            <td>554600</td>\n",
       "            <td>Action, Drama, War</td>\n",
       "        </tr>\n",
       "        <tr>\n",
       "            <td>354912</td>\n",
       "            <td>Family, Animation, Fantasy, Music, Comedy, Adventure</td>\n",
       "        </tr>\n",
       "        <tr>\n",
       "            <td>1151534</td>\n",
       "            <td>Thriller, Drama</td>\n",
       "        </tr>\n",
       "        <tr>\n",
       "            <td>507089</td>\n",
       "            <td>Horror, Mystery</td>\n",
       "        </tr>\n",
       "        <tr>\n",
       "            <td>807172</td>\n",
       "            <td>Horror</td>\n",
       "        </tr>\n",
       "        <tr>\n",
       "            <td>980489</td>\n",
       "            <td>Adventure, Action, Drama</td>\n",
       "        </tr>\n",
       "        <tr>\n",
       "            <td>299054</td>\n",
       "            <td>Action, Adventure, Thriller</td>\n",
       "        </tr>\n",
       "        <tr>\n",
       "            <td>951491</td>\n",
       "            <td>Horror, Thriller</td>\n",
       "        </tr>\n",
       "        <tr>\n",
       "            <td>615656</td>\n",
       "            <td>Action, Science Fiction, Horror</td>\n",
       "        </tr>\n",
       "        <tr>\n",
       "            <td>1161048</td>\n",
       "            <td>Horror, Comedy, Thriller</td>\n",
       "        </tr>\n",
       "        <tr>\n",
       "            <td>678512</td>\n",
       "            <td>Action, Drama</td>\n",
       "        </tr>\n",
       "        <tr>\n",
       "            <td>1039690</td>\n",
       "            <td>Action, Crime, Drama, Thriller</td>\n",
       "        </tr>\n",
       "        <tr>\n",
       "            <td>1008042</td>\n",
       "            <td>Horror, Thriller</td>\n",
       "        </tr>\n",
       "        <tr>\n",
       "            <td>385687</td>\n",
       "            <td>Action, Crime, Thriller</td>\n",
       "        </tr>\n",
       "        <tr>\n",
       "            <td>565770</td>\n",
       "            <td>Action, Science Fiction, Adventure</td>\n",
       "        </tr>\n",
       "        <tr>\n",
       "            <td>762430</td>\n",
       "            <td>Action, Thriller, Crime</td>\n",
       "        </tr>\n",
       "    </tbody>\n",
       "</table>\n",
       "<span style=\"font-style:italic;text-align:center;\">Truncated to <a href=\"https://jupysql.ploomber.io/en/latest/api/configuration.html#displaylimit\">displaylimit</a> of 20.</span>"
      ],
      "text/plain": [
       "+----------+------------------------------------------------------+\n",
       "| movie_id |                     genre_names                      |\n",
       "+----------+------------------------------------------------------+\n",
       "|  575264  |                   Action, Thriller                   |\n",
       "|  968051  |              Horror, Mystery, Thriller               |\n",
       "| 1034062  |              Animation, Action, Fantasy              |\n",
       "|  926393  |               Action, Thriller, Crime                |\n",
       "|  554600  |                  Action, Drama, War                  |\n",
       "|  354912  | Family, Animation, Fantasy, Music, Comedy, Adventure |\n",
       "| 1151534  |                   Thriller, Drama                    |\n",
       "|  507089  |                   Horror, Mystery                    |\n",
       "|  807172  |                        Horror                        |\n",
       "|  980489  |               Adventure, Action, Drama               |\n",
       "|  299054  |             Action, Adventure, Thriller              |\n",
       "|  951491  |                   Horror, Thriller                   |\n",
       "|  615656  |           Action, Science Fiction, Horror            |\n",
       "| 1161048  |               Horror, Comedy, Thriller               |\n",
       "|  678512  |                    Action, Drama                     |\n",
       "| 1039690  |            Action, Crime, Drama, Thriller            |\n",
       "| 1008042  |                   Horror, Thriller                   |\n",
       "|  385687  |               Action, Crime, Thriller                |\n",
       "|  565770  |          Action, Science Fiction, Adventure          |\n",
       "|  762430  |               Action, Thriller, Crime                |\n",
       "+----------+------------------------------------------------------+\n",
       "Truncated to displaylimit of 20."
      ]
     },
     "execution_count": 25,
     "metadata": {},
     "output_type": "execute_result"
    }
   ],
   "source": [
    "%%sql\n",
    "-- # Getting genre names per movie\n",
    "WITH ExpandedGenres AS (\n",
    "    SELECT \n",
    "        m.id AS movie_id,\n",
    "        mg.movie_genre_id,\n",
    "        g.name AS genre_name\n",
    "    FROM \n",
    "        (SELECT UNNEST(movies.genre_ids) as movie_genre_id, movies.id FROM movies) AS mg\n",
    "    JOIN \n",
    "        movies m ON mg.id = m.id\n",
    "    JOIN \n",
    "        genres g ON mg.movie_genre_id = g.id\n",
    ")\n",
    "\n",
    "SELECT\n",
    "    movie_id,\n",
    "    STRING_AGG(genre_name, ', ') AS genre_names\n",
    "FROM \n",
    "    ExpandedGenres\n",
    "GROUP BY \n",
    "    movie_id;"
   ]
  },
  {
   "cell_type": "code",
   "execution_count": 26,
   "metadata": {},
   "outputs": [
    {
     "data": {
      "text/html": [
       "<span style=\"None\">Running query in &#x27;duckdb&#x27;</span>"
      ],
      "text/plain": [
       "Running query in 'duckdb'"
      ]
     },
     "metadata": {},
     "output_type": "display_data"
    },
    {
     "data": {
      "text/html": [
       "<table>\n",
       "    <thead>\n",
       "        <tr>\n",
       "            <th>Count</th>\n",
       "        </tr>\n",
       "    </thead>\n",
       "    <tbody>\n",
       "    </tbody>\n",
       "</table>"
      ],
      "text/plain": [
       "+-------+\n",
       "| Count |\n",
       "+-------+\n",
       "+-------+"
      ]
     },
     "execution_count": 26,
     "metadata": {},
     "output_type": "execute_result"
    }
   ],
   "source": [
    "%%sql\n",
    "-- # Creating table with movie and genre information\n",
    "CREATE TABLE IF NOT EXISTS movie_genre_data AS\n",
    "WITH ExpandedGenres AS (\n",
    "    SELECT \n",
    "        m.id AS movie_id,\n",
    "        mg.movie_genre_id,\n",
    "        g.name AS genre_name\n",
    "    FROM \n",
    "        (SELECT UNNEST(movies.genre_ids) as movie_genre_id, movies.id FROM movies) AS mg\n",
    "    JOIN \n",
    "        movies m ON mg.id = m.id\n",
    "    JOIN \n",
    "        genres g ON mg.movie_genre_id = g.id\n",
    "),\n",
    "genre_names AS (\n",
    "    SELECT\n",
    "    movie_id,\n",
    "    STRING_AGG(genre_name, ', ') AS genre_names\n",
    "FROM \n",
    "    ExpandedGenres\n",
    "GROUP BY \n",
    "    movie_id\n",
    ")\n",
    "SELECT gn.genre_names, m.id, m.original_language,\n",
    "       m.overview, m.popularity, m.release_date,\n",
    "       m.title, m.vote_average, m.vote_count\n",
    "FROM genre_names gn\n",
    "JOIN movies m\n",
    "ON gn.movie_id = m.id\n",
    "WHERE m.vote_count != 0"
   ]
  },
  {
   "cell_type": "code",
   "execution_count": 9,
   "metadata": {},
   "outputs": [
    {
     "data": {
      "text/html": [
       "<span style=\"None\">Running query in &#x27;duckdb&#x27;</span>"
      ],
      "text/plain": [
       "Running query in 'duckdb'"
      ]
     },
     "metadata": {},
     "output_type": "display_data"
    },
    {
     "data": {
      "text/html": [
       "<table>\n",
       "    <thead>\n",
       "        <tr>\n",
       "            <th>genre_names</th>\n",
       "            <th>id</th>\n",
       "            <th>original_language</th>\n",
       "            <th>overview</th>\n",
       "            <th>popularity</th>\n",
       "            <th>release_date</th>\n",
       "            <th>title</th>\n",
       "            <th>vote_average</th>\n",
       "            <th>vote_count</th>\n",
       "        </tr>\n",
       "    </thead>\n",
       "    <tbody>\n",
       "        <tr>\n",
       "            <td>Horror, Mystery</td>\n",
       "            <td>507089</td>\n",
       "            <td>en</td>\n",
       "            <td>Recently fired and desperate for work, a troubled young man named Mike agrees to take a position as a night security guard at an abandoned theme restaurant: Freddy Fazbear's Pizzeria. But he soon discovers that nothing at Freddy's is what it seems.</td>\n",
       "            <td>7124.811</td>\n",
       "            <td>2023-10-25 00:00:00</td>\n",
       "            <td>Five Nights at Freddy's</td>\n",
       "            <td>8.5</td>\n",
       "            <td>906</td>\n",
       "        </tr>\n",
       "        <tr>\n",
       "            <td>Horror</td>\n",
       "            <td>807172</td>\n",
       "            <td>en</td>\n",
       "            <td>When his daughter and her friend show signs of demonic possession, it unleashes a chain of events that forces single father, Victor Fielding, to confront the nadir of evil. Terrified and desperate, he seeks out the only person alive who's witnessed anything like it before.</td>\n",
       "            <td>2315.215</td>\n",
       "            <td>2023-10-04 00:00:00</td>\n",
       "            <td>The Exorcist: Believer</td>\n",
       "            <td>6.1</td>\n",
       "            <td>327</td>\n",
       "        </tr>\n",
       "    </tbody>\n",
       "</table>"
      ],
      "text/plain": [
       "+-----------------+--------+-------------------+-----------------------------------------------------------------------------------------------------------------------------------------------------------------------------------------------------------------------------------------------------------------------------------+------------+---------------------+-------------------------+--------------+------------+\n",
       "|   genre_names   |   id   | original_language |                                                                                                                                      overview                                                                                                                                     | popularity |     release_date    |          title          | vote_average | vote_count |\n",
       "+-----------------+--------+-------------------+-----------------------------------------------------------------------------------------------------------------------------------------------------------------------------------------------------------------------------------------------------------------------------------+------------+---------------------+-------------------------+--------------+------------+\n",
       "| Horror, Mystery | 507089 |         en        |              Recently fired and desperate for work, a troubled young man named Mike agrees to take a position as a night security guard at an abandoned theme restaurant: Freddy Fazbear's Pizzeria. But he soon discovers that nothing at Freddy's is what it seems.             |  7124.811  | 2023-10-25 00:00:00 | Five Nights at Freddy's |     8.5      |    906     |\n",
       "|      Horror     | 807172 |         en        | When his daughter and her friend show signs of demonic possession, it unleashes a chain of events that forces single father, Victor Fielding, to confront the nadir of evil. Terrified and desperate, he seeks out the only person alive who's witnessed anything like it before. |  2315.215  | 2023-10-04 00:00:00 |  The Exorcist: Believer |     6.1      |    327     |\n",
       "+-----------------+--------+-------------------+-----------------------------------------------------------------------------------------------------------------------------------------------------------------------------------------------------------------------------------------------------------------------------------+------------+---------------------+-------------------------+--------------+------------+"
      ]
     },
     "execution_count": 9,
     "metadata": {},
     "output_type": "execute_result"
    }
   ],
   "source": [
    "%%sql\n",
    "SELECT *\n",
    "FROM movie_genre_data\n",
    "LIMIT 2;"
   ]
  },
  {
   "cell_type": "markdown",
   "metadata": {},
   "source": [
    "## Exploratory Analysis\n",
    "* What are the most popular genres?\n",
    "* What are the most popular movies?\n",
    "* What are the most popular movies by genre?\n",
    "* What are the most popular movies by year?\n",
    "* What are the most popular movies by decade?\n",
    "* What are the most popular movies by genre and decade?"
   ]
  },
  {
   "cell_type": "markdown",
   "metadata": {},
   "source": [
    "## Most popular movies by genre\n",
    "* Explode movies on genre_id\n",
    "* Group by genre_id and sum popularity\n",
    "* Join with genres tables to get the names\n",
    "* Order genres by popularity"
   ]
  },
  {
   "cell_type": "code",
   "execution_count": 23,
   "metadata": {},
   "outputs": [
    {
     "data": {
      "text/html": [
       "<span style=\"None\">Running query in &#x27;duckdb&#x27;</span>"
      ],
      "text/plain": [
       "Running query in 'duckdb'"
      ]
     },
     "metadata": {},
     "output_type": "display_data"
    },
    {
     "data": {
      "text/html": [
       "<table>\n",
       "    <thead>\n",
       "        <tr>\n",
       "            <th>genre_name</th>\n",
       "            <th>TotalPopularity</th>\n",
       "        </tr>\n",
       "    </thead>\n",
       "    <tbody>\n",
       "        <tr>\n",
       "            <td>Thriller</td>\n",
       "            <td>17038.0</td>\n",
       "        </tr>\n",
       "        <tr>\n",
       "            <td>Horror</td>\n",
       "            <td>16617.0</td>\n",
       "        </tr>\n",
       "        <tr>\n",
       "            <td>Action</td>\n",
       "            <td>15765.0</td>\n",
       "        </tr>\n",
       "        <tr>\n",
       "            <td>Mystery</td>\n",
       "            <td>9683.0</td>\n",
       "        </tr>\n",
       "        <tr>\n",
       "            <td>Crime</td>\n",
       "            <td>6674.0</td>\n",
       "        </tr>\n",
       "    </tbody>\n",
       "</table>"
      ],
      "text/plain": [
       "+------------+-----------------+\n",
       "| genre_name | TotalPopularity |\n",
       "+------------+-----------------+\n",
       "|  Thriller  |     17038.0     |\n",
       "|   Horror   |     16617.0     |\n",
       "|   Action   |     15765.0     |\n",
       "|  Mystery   |      9683.0     |\n",
       "|   Crime    |      6674.0     |\n",
       "+------------+-----------------+"
      ]
     },
     "execution_count": 23,
     "metadata": {},
     "output_type": "execute_result"
    }
   ],
   "source": [
    "%%sql \n",
    "WITH ExpandedGenres AS (\n",
    "    SELECT \n",
    "        m.id AS movie_id,\n",
    "        mg.movie_genre_id,\n",
    "        g.name AS genre_name,\n",
    "        m.popularity AS popularity,\n",
    "    FROM \n",
    "        (SELECT UNNEST(movies.genre_ids) as movie_genre_id, movies.id FROM movies) AS mg\n",
    "    JOIN \n",
    "        movies m ON mg.id = m.id\n",
    "    JOIN \n",
    "        genres g ON mg.movie_genre_id = g.id\n",
    ")\n",
    "\n",
    "SELECT\n",
    "    genre_name, ROUND(SUM(popularity)) AS TotalPopularity\n",
    "FROM \n",
    "    ExpandedGenres\n",
    "GROUP BY\n",
    "    genre_name\n",
    "ORDER BY TotalPopularity DESC\n",
    "LIMIT 5;\n"
   ]
  },
  {
   "cell_type": "markdown",
   "metadata": {},
   "source": [
    "## Most popular movies"
   ]
  },
  {
   "cell_type": "code",
   "execution_count": 27,
   "metadata": {},
   "outputs": [
    {
     "data": {
      "text/html": [
       "<span style=\"None\">Running query in &#x27;duckdb&#x27;</span>"
      ],
      "text/plain": [
       "Running query in 'duckdb'"
      ]
     },
     "metadata": {},
     "output_type": "display_data"
    },
    {
     "data": {
      "text/html": [
       "<table>\n",
       "    <thead>\n",
       "        <tr>\n",
       "            <th>title</th>\n",
       "            <th>popularity</th>\n",
       "        </tr>\n",
       "    </thead>\n",
       "    <tbody>\n",
       "        <tr>\n",
       "            <td>Five Nights at Freddy's</td>\n",
       "            <td>7124.811</td>\n",
       "        </tr>\n",
       "        <tr>\n",
       "            <td>The Nun II</td>\n",
       "            <td>2558.391</td>\n",
       "        </tr>\n",
       "        <tr>\n",
       "            <td>Saw X</td>\n",
       "            <td>2473.173</td>\n",
       "        </tr>\n",
       "        <tr>\n",
       "            <td>The Exorcist: Believer</td>\n",
       "            <td>2315.215</td>\n",
       "        </tr>\n",
       "        <tr>\n",
       "            <td>Fast X</td>\n",
       "            <td>1890.122</td>\n",
       "        </tr>\n",
       "    </tbody>\n",
       "</table>"
      ],
      "text/plain": [
       "+-------------------------+------------+\n",
       "|          title          | popularity |\n",
       "+-------------------------+------------+\n",
       "| Five Nights at Freddy's |  7124.811  |\n",
       "|        The Nun II       |  2558.391  |\n",
       "|          Saw X          |  2473.173  |\n",
       "|  The Exorcist: Believer |  2315.215  |\n",
       "|          Fast X         |  1890.122  |\n",
       "+-------------------------+------------+"
      ]
     },
     "execution_count": 27,
     "metadata": {},
     "output_type": "execute_result"
    }
   ],
   "source": [
    "%%sql\n",
    "SELECT title, popularity\n",
    "FROM movies\n",
    "ORDER BY popularity DESC\n",
    "LIMIT 5;"
   ]
  },
  {
   "cell_type": "markdown",
   "metadata": {},
   "source": [
    "### Do the other ones later"
   ]
  }
 ],
 "metadata": {
  "kernelspec": {
   "display_name": "poetry-env",
   "language": "python",
   "name": "python3"
  },
  "language_info": {
   "codemirror_mode": {
    "name": "ipython",
    "version": 3
   },
   "file_extension": ".py",
   "mimetype": "text/x-python",
   "name": "python",
   "nbconvert_exporter": "python",
   "pygments_lexer": "ipython3",
   "version": "3.10.13"
  }
 },
 "nbformat": 4,
 "nbformat_minor": 2
}
